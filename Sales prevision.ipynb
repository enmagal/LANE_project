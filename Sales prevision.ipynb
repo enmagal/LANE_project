{
 "cells": [
  {
   "cell_type": "markdown",
   "metadata": {},
   "source": [
    "<img src=\"./Espresso-Coffee-Beans-Market.jpg\">\n",
    "\n",
    "<h1><center>☕Coffee sales prediction☕</center></h1>\n",
    "\n",
    "# 1. Introduction\n",
    "\n",
    "We recorded a lot of data during the first year of our chain. We are now going to analyze them to try to predict the sales we will make in the next few days. Enjoy ! 🤓\n",
    "\n",
    "\n",
    "### Libraries 📚⬇"
   ]
  },
  {
   "cell_type": "code",
   "execution_count": 1,
   "metadata": {},
   "outputs": [],
   "source": [
    "#Imports\n",
    "import pandas as pd\n",
    "import matplotlib.pyplot as plt\n",
    "import seaborn as sns\n",
    "sns.set(rc={'figure.figsize':(22, 11)})\n",
    "sns.set_context(\"poster\")"
   ]
  },
  {
   "cell_type": "markdown",
   "metadata": {},
   "source": [
    "# 2. The .csv files 📁\n",
    "\n",
    "> 📌**Note**:\n",
    "* `Items.csv` contains information about the things we sell in our store. Spoiler alert it's almost exclusively food and drinks.\n",
    "* `Sales.csv` contains a list of the transactions made during the last year."
   ]
  },
  {
   "cell_type": "code",
   "execution_count": 2,
   "metadata": {},
   "outputs": [],
   "source": [
    "#data\n",
    "items = pd.read_csv(\"./sales data/Items.csv\", sep = ';', header = 1)\n",
    "data = pd.read_csv(\"./sales data/Sales.csv\", sep = ';', header = 1)"
   ]
  },
  {
   "cell_type": "markdown",
   "metadata": {},
   "source": [
    "## Items 🥞"
   ]
  },
  {
   "cell_type": "code",
   "execution_count": 3,
   "metadata": {},
   "outputs": [
    {
     "data": {
      "text/html": [
       "<div>\n",
       "<style scoped>\n",
       "    .dataframe tbody tr th:only-of-type {\n",
       "        vertical-align: middle;\n",
       "    }\n",
       "\n",
       "    .dataframe tbody tr th {\n",
       "        vertical-align: top;\n",
       "    }\n",
       "\n",
       "    .dataframe thead th {\n",
       "        text-align: right;\n",
       "    }\n",
       "</style>\n",
       "<table border=\"1\" class=\"dataframe\">\n",
       "  <thead>\n",
       "    <tr style=\"text-align: right;\">\n",
       "      <th></th>\n",
       "      <th>Produit</th>\n",
       "      <th>Sweet / Savory</th>\n",
       "      <th>Drink / Food</th>\n",
       "      <th>Hot / Cold</th>\n",
       "      <th>Allergènes</th>\n",
       "      <th>Price</th>\n",
       "    </tr>\n",
       "  </thead>\n",
       "  <tbody>\n",
       "    <tr>\n",
       "      <td>0</td>\n",
       "      <td>Pancake vegan</td>\n",
       "      <td>Sweet</td>\n",
       "      <td>Food</td>\n",
       "      <td>Hot</td>\n",
       "      <td>NaN</td>\n",
       "      <td>4</td>\n",
       "    </tr>\n",
       "    <tr>\n",
       "      <td>1</td>\n",
       "      <td>Pancake</td>\n",
       "      <td>Sweet</td>\n",
       "      <td>Food</td>\n",
       "      <td>Hot</td>\n",
       "      <td>Dairy, Eggs</td>\n",
       "      <td>4</td>\n",
       "    </tr>\n",
       "    <tr>\n",
       "      <td>2</td>\n",
       "      <td>Nutella panini</td>\n",
       "      <td>Sweet</td>\n",
       "      <td>Food</td>\n",
       "      <td>Hot</td>\n",
       "      <td>Nuts</td>\n",
       "      <td>3</td>\n",
       "    </tr>\n",
       "    <tr>\n",
       "      <td>3</td>\n",
       "      <td>Waffles</td>\n",
       "      <td>Sweet</td>\n",
       "      <td>Food</td>\n",
       "      <td>Hot</td>\n",
       "      <td>Dairy, Eggs</td>\n",
       "      <td>3</td>\n",
       "    </tr>\n",
       "    <tr>\n",
       "      <td>4</td>\n",
       "      <td>Cinnamon roll</td>\n",
       "      <td>Sweet</td>\n",
       "      <td>Food</td>\n",
       "      <td>Cold</td>\n",
       "      <td>Nuts, Eggs, Dairy</td>\n",
       "      <td>4</td>\n",
       "    </tr>\n",
       "  </tbody>\n",
       "</table>\n",
       "</div>"
      ],
      "text/plain": [
       "          Produit Sweet / Savory Drink / Food Hot / Cold         Allergènes  \\\n",
       "0   Pancake vegan          Sweet         Food        Hot                NaN   \n",
       "1         Pancake          Sweet         Food        Hot        Dairy, Eggs   \n",
       "2  Nutella panini          Sweet         Food        Hot               Nuts   \n",
       "3         Waffles          Sweet         Food        Hot        Dairy, Eggs   \n",
       "4   Cinnamon roll          Sweet         Food       Cold  Nuts, Eggs, Dairy   \n",
       "\n",
       "   Price  \n",
       "0      4  \n",
       "1      4  \n",
       "2      3  \n",
       "3      3  \n",
       "4      4  "
      ]
     },
     "execution_count": 3,
     "metadata": {},
     "output_type": "execute_result"
    }
   ],
   "source": [
    "#Check items\n",
    "items.head()"
   ]
  },
  {
   "cell_type": "code",
   "execution_count": 4,
   "metadata": {},
   "outputs": [
    {
     "name": "stdout",
     "output_type": "stream",
     "text": [
      "There is actually 31 different items in the dataset\n",
      "LANE Coffee                1\n",
      "Caramel macchiato          1\n",
      "Cinnamon roll              1\n",
      "Nutella panini             1\n",
      "Tea                        1\n",
      "Avocado  toast             1\n",
      "Pancake vegan              1\n",
      "Muffin                     1\n",
      "Mac & cheese               1\n",
      "Cake                       1\n",
      "Pancake                    1\n",
      "Brownie                    1\n",
      "Salad                      1\n",
      "Muffin vegan               1\n",
      "Grilled cheese vegan       1\n",
      "Cappucino                  1\n",
      "Wrap vegan                 1\n",
      "Grilled cheese             1\n",
      "Chaï latte                 1\n",
      "Coffee                     1\n",
      "Sandwich                   1\n",
      "Latte coffee               1\n",
      "Tiramisu                   1\n",
      "White chocolate cookie     1\n",
      "Iced tea                   1\n",
      "Foccacia                   1\n",
      "Mineral water              1\n",
      "Apple juice                1\n",
      "Mozzarella pesto panini    1\n",
      "Iced coffee                1\n",
      "Waffles                    1\n",
      "Name: Produit, dtype: int64\n"
     ]
    }
   ],
   "source": [
    "print(\"There is actually\", items.shape[0], \"different items in the dataset\")\n",
    "print(items['Produit'].value_counts())"
   ]
  },
  {
   "cell_type": "markdown",
   "metadata": {},
   "source": [
    "## Transactions 💳"
   ]
  },
  {
   "cell_type": "code",
   "execution_count": 5,
   "metadata": {},
   "outputs": [
    {
     "data": {
      "text/html": [
       "<div>\n",
       "<style scoped>\n",
       "    .dataframe tbody tr th:only-of-type {\n",
       "        vertical-align: middle;\n",
       "    }\n",
       "\n",
       "    .dataframe tbody tr th {\n",
       "        vertical-align: top;\n",
       "    }\n",
       "\n",
       "    .dataframe thead th {\n",
       "        text-align: right;\n",
       "    }\n",
       "</style>\n",
       "<table border=\"1\" class=\"dataframe\">\n",
       "  <thead>\n",
       "    <tr style=\"text-align: right;\">\n",
       "      <th></th>\n",
       "      <th>TransactionNo</th>\n",
       "      <th>Items</th>\n",
       "      <th>DateTime</th>\n",
       "      <th>Daypart</th>\n",
       "      <th>DayType</th>\n",
       "    </tr>\n",
       "  </thead>\n",
       "  <tbody>\n",
       "    <tr>\n",
       "      <td>0</td>\n",
       "      <td>1</td>\n",
       "      <td>Coffee</td>\n",
       "      <td>2016-10-30 09:58:11</td>\n",
       "      <td>Morning</td>\n",
       "      <td>Weekend</td>\n",
       "    </tr>\n",
       "    <tr>\n",
       "      <td>1</td>\n",
       "      <td>2</td>\n",
       "      <td>Pancake vegan</td>\n",
       "      <td>2016-10-30 10:05:34</td>\n",
       "      <td>Morning</td>\n",
       "      <td>Weekend</td>\n",
       "    </tr>\n",
       "    <tr>\n",
       "      <td>2</td>\n",
       "      <td>2</td>\n",
       "      <td>Pancake vegan</td>\n",
       "      <td>2016-10-30 10:05:34</td>\n",
       "      <td>Morning</td>\n",
       "      <td>Weekend</td>\n",
       "    </tr>\n",
       "    <tr>\n",
       "      <td>3</td>\n",
       "      <td>3</td>\n",
       "      <td>Cappucino</td>\n",
       "      <td>2016-10-30 10:07:57</td>\n",
       "      <td>Morning</td>\n",
       "      <td>Weekend</td>\n",
       "    </tr>\n",
       "    <tr>\n",
       "      <td>4</td>\n",
       "      <td>3</td>\n",
       "      <td>Nutella panini</td>\n",
       "      <td>2016-10-30 10:07:57</td>\n",
       "      <td>Morning</td>\n",
       "      <td>Weekend</td>\n",
       "    </tr>\n",
       "  </tbody>\n",
       "</table>\n",
       "</div>"
      ],
      "text/plain": [
       "   TransactionNo           Items             DateTime  Daypart  DayType\n",
       "0              1          Coffee  2016-10-30 09:58:11  Morning  Weekend\n",
       "1              2   Pancake vegan  2016-10-30 10:05:34  Morning  Weekend\n",
       "2              2   Pancake vegan  2016-10-30 10:05:34  Morning  Weekend\n",
       "3              3       Cappucino  2016-10-30 10:07:57  Morning  Weekend\n",
       "4              3  Nutella panini  2016-10-30 10:07:57  Morning  Weekend"
      ]
     },
     "execution_count": 5,
     "metadata": {},
     "output_type": "execute_result"
    }
   ],
   "source": [
    "#Check data\n",
    "data.head()"
   ]
  },
  {
   "cell_type": "code",
   "execution_count": 6,
   "metadata": {},
   "outputs": [
    {
     "data": {
      "text/html": [
       "<div>\n",
       "<style scoped>\n",
       "    .dataframe tbody tr th:only-of-type {\n",
       "        vertical-align: middle;\n",
       "    }\n",
       "\n",
       "    .dataframe tbody tr th {\n",
       "        vertical-align: top;\n",
       "    }\n",
       "\n",
       "    .dataframe thead th {\n",
       "        text-align: right;\n",
       "    }\n",
       "</style>\n",
       "<table border=\"1\" class=\"dataframe\">\n",
       "  <thead>\n",
       "    <tr style=\"text-align: right;\">\n",
       "      <th></th>\n",
       "      <th>TransactionNo</th>\n",
       "      <th>Items</th>\n",
       "      <th>DateTime</th>\n",
       "      <th>Daypart</th>\n",
       "      <th>DayType</th>\n",
       "      <th>Year</th>\n",
       "      <th>Month</th>\n",
       "      <th>BigDate</th>\n",
       "      <th>Date</th>\n",
       "    </tr>\n",
       "  </thead>\n",
       "  <tbody>\n",
       "    <tr>\n",
       "      <td>0</td>\n",
       "      <td>1</td>\n",
       "      <td>Coffee</td>\n",
       "      <td>2016-10-30 09:58:11</td>\n",
       "      <td>Morning</td>\n",
       "      <td>Weekend</td>\n",
       "      <td>2016</td>\n",
       "      <td>10</td>\n",
       "      <td>2016-10-30</td>\n",
       "      <td>2016-10-01</td>\n",
       "    </tr>\n",
       "    <tr>\n",
       "      <td>1</td>\n",
       "      <td>2</td>\n",
       "      <td>Pancake vegan</td>\n",
       "      <td>2016-10-30 10:05:34</td>\n",
       "      <td>Morning</td>\n",
       "      <td>Weekend</td>\n",
       "      <td>2016</td>\n",
       "      <td>10</td>\n",
       "      <td>2016-10-30</td>\n",
       "      <td>2016-10-01</td>\n",
       "    </tr>\n",
       "    <tr>\n",
       "      <td>2</td>\n",
       "      <td>2</td>\n",
       "      <td>Pancake vegan</td>\n",
       "      <td>2016-10-30 10:05:34</td>\n",
       "      <td>Morning</td>\n",
       "      <td>Weekend</td>\n",
       "      <td>2016</td>\n",
       "      <td>10</td>\n",
       "      <td>2016-10-30</td>\n",
       "      <td>2016-10-01</td>\n",
       "    </tr>\n",
       "    <tr>\n",
       "      <td>3</td>\n",
       "      <td>3</td>\n",
       "      <td>Cappucino</td>\n",
       "      <td>2016-10-30 10:07:57</td>\n",
       "      <td>Morning</td>\n",
       "      <td>Weekend</td>\n",
       "      <td>2016</td>\n",
       "      <td>10</td>\n",
       "      <td>2016-10-30</td>\n",
       "      <td>2016-10-01</td>\n",
       "    </tr>\n",
       "    <tr>\n",
       "      <td>4</td>\n",
       "      <td>3</td>\n",
       "      <td>Nutella panini</td>\n",
       "      <td>2016-10-30 10:07:57</td>\n",
       "      <td>Morning</td>\n",
       "      <td>Weekend</td>\n",
       "      <td>2016</td>\n",
       "      <td>10</td>\n",
       "      <td>2016-10-30</td>\n",
       "      <td>2016-10-01</td>\n",
       "    </tr>\n",
       "  </tbody>\n",
       "</table>\n",
       "</div>"
      ],
      "text/plain": [
       "   TransactionNo           Items            DateTime  Daypart  DayType  Year  \\\n",
       "0              1          Coffee 2016-10-30 09:58:11  Morning  Weekend  2016   \n",
       "1              2   Pancake vegan 2016-10-30 10:05:34  Morning  Weekend  2016   \n",
       "2              2   Pancake vegan 2016-10-30 10:05:34  Morning  Weekend  2016   \n",
       "3              3       Cappucino 2016-10-30 10:07:57  Morning  Weekend  2016   \n",
       "4              3  Nutella panini 2016-10-30 10:07:57  Morning  Weekend  2016   \n",
       "\n",
       "   Month     BigDate       Date  \n",
       "0     10  2016-10-30 2016-10-01  \n",
       "1     10  2016-10-30 2016-10-01  \n",
       "2     10  2016-10-30 2016-10-01  \n",
       "3     10  2016-10-30 2016-10-01  \n",
       "4     10  2016-10-30 2016-10-01  "
      ]
     },
     "execution_count": 6,
     "metadata": {},
     "output_type": "execute_result"
    }
   ],
   "source": [
    "#Dates\n",
    "data['DateTime'] = pd.to_datetime(data.DateTime, format = '%Y-%m-%d %H:%M:%S')\n",
    "data['Year'] = data['DateTime'].dt.year \n",
    "data['Month'] = data['DateTime'].dt.month\n",
    "data['BigDate'] = data['DateTime'].dt.date\n",
    "data['Date'] = data['DateTime'].dt.to_period('m')\n",
    "data['Date'] = data['Date'].dt.to_timestamp()\n",
    "\n",
    "data.head()"
   ]
  },
  {
   "cell_type": "markdown",
   "metadata": {},
   "source": [
    "# 3. Join datasets\n",
    "\n",
    "We will join the two dataset to have a price to each transactions."
   ]
  },
  {
   "cell_type": "code",
   "execution_count": 7,
   "metadata": {},
   "outputs": [],
   "source": [
    "# Rename to merge\n",
    "items.rename(columns={'Produit':'Items'}, inplace=True)"
   ]
  },
  {
   "cell_type": "code",
   "execution_count": 8,
   "metadata": {},
   "outputs": [
    {
     "data": {
      "text/plain": [
       "Coffee                      8798\n",
       "Tea                         1435\n",
       "Cake                        1025\n",
       "LANE Coffee                  858\n",
       "Sandwich                     771\n",
       "Brownie                      691\n",
       "Cinnamon roll                616\n",
       "White chocolate cookie       603\n",
       "Cappucino                    590\n",
       "Avocado toast                517\n",
       "Salad                        473\n",
       "Mozzarella pesto panini      465\n",
       "Caramel macchiato            378\n",
       "Muffin                       373\n",
       "Iced tea                     369\n",
       "Tiramisu                     339\n",
       "Wrap vegan                   312\n",
       "Pancake vegan                277\n",
       "Chaï latte                   262\n",
       "Iced Coffee                  260\n",
       "Waffles                      224\n",
       "Nutella panini               149\n",
       "Mineral water                139\n",
       "Focaccia                     136\n",
       "Pancake                      133\n",
       "Mac and cheese                89\n",
       "Grilled cheese                83\n",
       "Apple juice                   65\n",
       "Grilled cheese vegan          22\n",
       "Muffin vegan                  17\n",
       "Avocado Avocado toast         16\n",
       "Chaï latte                    15\n",
       "Avocado Avocado toast          6\n",
       "Bowl Nic Pitt                  1\n",
       "Name: Items, dtype: int64"
      ]
     },
     "execution_count": 8,
     "metadata": {},
     "output_type": "execute_result"
    }
   ],
   "source": [
    "data['Items'].value_counts()"
   ]
  },
  {
   "cell_type": "code",
   "execution_count": 9,
   "metadata": {},
   "outputs": [
    {
     "data": {
      "text/html": [
       "<div>\n",
       "<style scoped>\n",
       "    .dataframe tbody tr th:only-of-type {\n",
       "        vertical-align: middle;\n",
       "    }\n",
       "\n",
       "    .dataframe tbody tr th {\n",
       "        vertical-align: top;\n",
       "    }\n",
       "\n",
       "    .dataframe thead th {\n",
       "        text-align: right;\n",
       "    }\n",
       "</style>\n",
       "<table border=\"1\" class=\"dataframe\">\n",
       "  <thead>\n",
       "    <tr style=\"text-align: right;\">\n",
       "      <th></th>\n",
       "      <th>Items</th>\n",
       "      <th>DateTime</th>\n",
       "      <th>Daypart</th>\n",
       "      <th>DayType</th>\n",
       "      <th>Year</th>\n",
       "      <th>Month</th>\n",
       "      <th>BigDate</th>\n",
       "      <th>Date</th>\n",
       "      <th>Price</th>\n",
       "    </tr>\n",
       "  </thead>\n",
       "  <tbody>\n",
       "    <tr>\n",
       "      <td>0</td>\n",
       "      <td>Coffee</td>\n",
       "      <td>2016-10-30 09:58:11</td>\n",
       "      <td>Morning</td>\n",
       "      <td>Weekend</td>\n",
       "      <td>2016</td>\n",
       "      <td>10</td>\n",
       "      <td>2016-10-30</td>\n",
       "      <td>2016-10-01</td>\n",
       "      <td>2</td>\n",
       "    </tr>\n",
       "    <tr>\n",
       "      <td>1</td>\n",
       "      <td>Coffee</td>\n",
       "      <td>2016-10-30 10:13:03</td>\n",
       "      <td>Morning</td>\n",
       "      <td>Weekend</td>\n",
       "      <td>2016</td>\n",
       "      <td>10</td>\n",
       "      <td>2016-10-30</td>\n",
       "      <td>2016-10-01</td>\n",
       "      <td>2</td>\n",
       "    </tr>\n",
       "    <tr>\n",
       "      <td>2</td>\n",
       "      <td>Coffee</td>\n",
       "      <td>2016-10-30 10:13:03</td>\n",
       "      <td>Morning</td>\n",
       "      <td>Weekend</td>\n",
       "      <td>2016</td>\n",
       "      <td>10</td>\n",
       "      <td>2016-10-30</td>\n",
       "      <td>2016-10-01</td>\n",
       "      <td>2</td>\n",
       "    </tr>\n",
       "    <tr>\n",
       "      <td>3</td>\n",
       "      <td>Coffee</td>\n",
       "      <td>2016-10-30 10:19:12</td>\n",
       "      <td>Morning</td>\n",
       "      <td>Weekend</td>\n",
       "      <td>2016</td>\n",
       "      <td>10</td>\n",
       "      <td>2016-10-30</td>\n",
       "      <td>2016-10-01</td>\n",
       "      <td>2</td>\n",
       "    </tr>\n",
       "    <tr>\n",
       "      <td>4</td>\n",
       "      <td>Coffee</td>\n",
       "      <td>2016-10-30 10:20:51</td>\n",
       "      <td>Morning</td>\n",
       "      <td>Weekend</td>\n",
       "      <td>2016</td>\n",
       "      <td>10</td>\n",
       "      <td>2016-10-30</td>\n",
       "      <td>2016-10-01</td>\n",
       "      <td>2</td>\n",
       "    </tr>\n",
       "  </tbody>\n",
       "</table>\n",
       "</div>"
      ],
      "text/plain": [
       "    Items            DateTime  Daypart  DayType  Year  Month     BigDate  \\\n",
       "0  Coffee 2016-10-30 09:58:11  Morning  Weekend  2016     10  2016-10-30   \n",
       "1  Coffee 2016-10-30 10:13:03  Morning  Weekend  2016     10  2016-10-30   \n",
       "2  Coffee 2016-10-30 10:13:03  Morning  Weekend  2016     10  2016-10-30   \n",
       "3  Coffee 2016-10-30 10:19:12  Morning  Weekend  2016     10  2016-10-30   \n",
       "4  Coffee 2016-10-30 10:20:51  Morning  Weekend  2016     10  2016-10-30   \n",
       "\n",
       "        Date  Price  \n",
       "0 2016-10-01      2  \n",
       "1 2016-10-01      2  \n",
       "2 2016-10-01      2  \n",
       "3 2016-10-01      2  \n",
       "4 2016-10-01      2  "
      ]
     },
     "execution_count": 9,
     "metadata": {},
     "output_type": "execute_result"
    }
   ],
   "source": [
    "# Merge (inner)\n",
    "df = pd.merge(data, items, on='Items', how='inner')\n",
    "df = df.drop(columns=['TransactionNo', 'Sweet / Savory', 'Drink / Food', 'Hot / Cold', 'Allergènes'])\n",
    "df.head()"
   ]
  },
  {
   "cell_type": "code",
   "execution_count": 10,
   "metadata": {},
   "outputs": [
    {
     "data": {
      "text/plain": [
       "Coffee                     8798\n",
       "Tea                        1435\n",
       "Cake                       1025\n",
       "LANE Coffee                 858\n",
       "Sandwich                    771\n",
       "Brownie                     691\n",
       "Cinnamon roll               616\n",
       "White chocolate cookie      603\n",
       "Cappucino                   590\n",
       "Salad                       473\n",
       "Mozzarella pesto panini     465\n",
       "Muffin                      373\n",
       "Iced tea                    369\n",
       "Tiramisu                    339\n",
       "Wrap vegan                  312\n",
       "Pancake vegan               277\n",
       "Waffles                     224\n",
       "Nutella panini              149\n",
       "Mineral water               139\n",
       "Pancake                     133\n",
       "Apple juice                  65\n",
       "Grilled cheese vegan         22\n",
       "Muffin vegan                 17\n",
       "Name: Items, dtype: int64"
      ]
     },
     "execution_count": 10,
     "metadata": {},
     "output_type": "execute_result"
    }
   ],
   "source": [
    "df['Items'].value_counts()"
   ]
  },
  {
   "cell_type": "code",
   "execution_count": 11,
   "metadata": {},
   "outputs": [
    {
     "data": {
      "text/html": [
       "<div>\n",
       "<style scoped>\n",
       "    .dataframe tbody tr th:only-of-type {\n",
       "        vertical-align: middle;\n",
       "    }\n",
       "\n",
       "    .dataframe tbody tr th {\n",
       "        vertical-align: top;\n",
       "    }\n",
       "\n",
       "    .dataframe thead th {\n",
       "        text-align: right;\n",
       "    }\n",
       "</style>\n",
       "<table border=\"1\" class=\"dataframe\">\n",
       "  <thead>\n",
       "    <tr style=\"text-align: right;\">\n",
       "      <th></th>\n",
       "      <th>Price</th>\n",
       "    </tr>\n",
       "    <tr>\n",
       "      <th>BigDate</th>\n",
       "      <th></th>\n",
       "    </tr>\n",
       "  </thead>\n",
       "  <tbody>\n",
       "    <tr>\n",
       "      <td>2016-01-11</td>\n",
       "      <td>383</td>\n",
       "    </tr>\n",
       "    <tr>\n",
       "      <td>2016-01-12</td>\n",
       "      <td>217</td>\n",
       "    </tr>\n",
       "    <tr>\n",
       "      <td>2016-02-11</td>\n",
       "      <td>401</td>\n",
       "    </tr>\n",
       "    <tr>\n",
       "      <td>2016-02-12</td>\n",
       "      <td>273</td>\n",
       "    </tr>\n",
       "    <tr>\n",
       "      <td>2016-03-11</td>\n",
       "      <td>495</td>\n",
       "    </tr>\n",
       "  </tbody>\n",
       "</table>\n",
       "</div>"
      ],
      "text/plain": [
       "            Price\n",
       "BigDate          \n",
       "2016-01-11    383\n",
       "2016-01-12    217\n",
       "2016-02-11    401\n",
       "2016-02-12    273\n",
       "2016-03-11    495"
      ]
     },
     "execution_count": 11,
     "metadata": {},
     "output_type": "execute_result"
    }
   ],
   "source": [
    "#Groups\n",
    "dataByDate = df.groupby(by='BigDate').sum()\n",
    "dataByMonth = df.groupby(by=['Year','Month']).sum()\n",
    "dataByItem = df.groupby(by='Items', as_index=False)\n",
    "\n",
    "dataByDate = dataByDate.drop(columns=['Year','Month'])\n",
    "dataByDate.head()"
   ]
  },
  {
   "cell_type": "code",
   "execution_count": 12,
   "metadata": {},
   "outputs": [
    {
     "name": "stderr",
     "output_type": "stream",
     "text": [
      "C:\\Users\\enzom\\Anaconda3\\lib\\site-packages\\pandas\\plotting\\_matplotlib\\converter.py:103: FutureWarning: Using an implicitly registered datetime converter for a matplotlib plotting method. The converter was registered by pandas on import. Future versions of pandas will require you to explicitly register matplotlib converters.\n",
      "\n",
      "To register the converters:\n",
      "\t>>> from pandas.plotting import register_matplotlib_converters\n",
      "\t>>> register_matplotlib_converters()\n",
      "  warnings.warn(msg, FutureWarning)\n"
     ]
    },
    {
     "data": {
      "text/plain": [
       "[<matplotlib.lines.Line2D at 0x236e4112108>,\n",
       " <matplotlib.lines.Line2D at 0x236e414f708>]"
      ]
     },
     "execution_count": 12,
     "metadata": {},
     "output_type": "execute_result"
    },
    {
     "data": {
      "image/png": "[encoded data removed]",
      "text/plain": [
       "<Figure size 432x288 with 1 Axes>"
      ]
     },
     "metadata": {
      "needs_background": "light"
     },
     "output_type": "display_data"
    }
   ],
   "source": [
    "#Price by date\n",
    "dataByDate['SMA20'] = dataByDate.Price.rolling(20, min_periods=1).mean()\n",
    "# dataByDate['CMA'] = dataByDate.Price.expanding().mean()\n",
    "# dataByDate['EMA0.1'] = dataByDate.Price.ewm(alpha=0.1, adjust=False).mean()\n",
    "# dataByDate['EMA0.3'] = dataByDate.Price.ewm(alpha=0.3, adjust=False).mean()\n",
    "\n",
    "plt.plot(dataByDate)\n",
    "# plt.legend(['Price', 'SMA5', 'CMA', 'EMA0.1', 'EMA0.3'])"
   ]
  }
 ],
 "metadata": {
  "interpreter": {
   "hash": "7b80fdce118e3cb39763ddfb3a038cee08fa8dbb466f3ad1a6bd144f437a0618"
  },
  "kernelspec": {
   "display_name": "Python 3",
   "language": "python",
   "name": "python3"
  },
  "language_info": {
   "codemirror_mode": {
    "name": "ipython",
    "version": 3
   },
   "file_extension": ".py",
   "mimetype": "text/x-python",
   "name": "python",
   "nbconvert_exporter": "python",
   "pygments_lexer": "ipython3",
   "version": "3.7.4"
  }
 },
 "nbformat": 4,
 "nbformat_minor": 2
}
