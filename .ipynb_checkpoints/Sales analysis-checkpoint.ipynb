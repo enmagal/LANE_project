{
 "cells": [
  {
   "cell_type": "code",
   "execution_count": 14,
   "metadata": {},
   "outputs": [],
   "source": [
    "import pandas as pd\n",
    "import matplotlib.pyplot as plt\n",
    "import seaborn as sns\n",
    "sns.set(rc={'figure.figsize':(22, 11)})"
   ]
  },
  {
   "cell_type": "code",
   "execution_count": 2,
   "metadata": {},
   "outputs": [],
   "source": [
    "data = pd.read_csv(\"./sales data/Bakery.csv\")"
   ]
  },
  {
   "cell_type": "code",
   "execution_count": 3,
   "metadata": {},
   "outputs": [
    {
     "data": {
      "text/html": [
       "<div>\n",
       "<style scoped>\n",
       "    .dataframe tbody tr th:only-of-type {\n",
       "        vertical-align: middle;\n",
       "    }\n",
       "\n",
       "    .dataframe tbody tr th {\n",
       "        vertical-align: top;\n",
       "    }\n",
       "\n",
       "    .dataframe thead th {\n",
       "        text-align: right;\n",
       "    }\n",
       "</style>\n",
       "<table border=\"1\" class=\"dataframe\">\n",
       "  <thead>\n",
       "    <tr style=\"text-align: right;\">\n",
       "      <th></th>\n",
       "      <th>TransactionNo</th>\n",
       "      <th>Items</th>\n",
       "      <th>DateTime</th>\n",
       "      <th>Daypart</th>\n",
       "      <th>DayType</th>\n",
       "      <th>Price</th>\n",
       "    </tr>\n",
       "  </thead>\n",
       "  <tbody>\n",
       "    <tr>\n",
       "      <td>0</td>\n",
       "      <td>1</td>\n",
       "      <td>Bread</td>\n",
       "      <td>2016-10-30 09:58:11</td>\n",
       "      <td>Morning</td>\n",
       "      <td>Weekend</td>\n",
       "      <td>3</td>\n",
       "    </tr>\n",
       "    <tr>\n",
       "      <td>1</td>\n",
       "      <td>2</td>\n",
       "      <td>Scandinavian</td>\n",
       "      <td>2016-10-30 10:05:34</td>\n",
       "      <td>Morning</td>\n",
       "      <td>Weekend</td>\n",
       "      <td>3</td>\n",
       "    </tr>\n",
       "    <tr>\n",
       "      <td>2</td>\n",
       "      <td>2</td>\n",
       "      <td>Scandinavian</td>\n",
       "      <td>2016-10-30 10:05:34</td>\n",
       "      <td>Morning</td>\n",
       "      <td>Weekend</td>\n",
       "      <td>3</td>\n",
       "    </tr>\n",
       "    <tr>\n",
       "      <td>3</td>\n",
       "      <td>3</td>\n",
       "      <td>Hot chocolate</td>\n",
       "      <td>2016-10-30 10:07:57</td>\n",
       "      <td>Morning</td>\n",
       "      <td>Weekend</td>\n",
       "      <td>3</td>\n",
       "    </tr>\n",
       "    <tr>\n",
       "      <td>4</td>\n",
       "      <td>3</td>\n",
       "      <td>Jam</td>\n",
       "      <td>2016-10-30 10:07:57</td>\n",
       "      <td>Morning</td>\n",
       "      <td>Weekend</td>\n",
       "      <td>3</td>\n",
       "    </tr>\n",
       "  </tbody>\n",
       "</table>\n",
       "</div>"
      ],
      "text/plain": [
       "   TransactionNo          Items            DateTime  Daypart  DayType  Price\n",
       "0              1          Bread 2016-10-30 09:58:11  Morning  Weekend      3\n",
       "1              2   Scandinavian 2016-10-30 10:05:34  Morning  Weekend      3\n",
       "2              2   Scandinavian 2016-10-30 10:05:34  Morning  Weekend      3\n",
       "3              3  Hot chocolate 2016-10-30 10:07:57  Morning  Weekend      3\n",
       "4              3            Jam 2016-10-30 10:07:57  Morning  Weekend      3"
      ]
     },
     "execution_count": 3,
     "metadata": {},
     "output_type": "execute_result"
    }
   ],
   "source": [
    "data['DateTime'] = pd.to_datetime(data.DateTime, format='%Y-%m-%d %H:%M:%S')\n",
    "data = data.assign(Price = 3)\n",
    "data.head()"
   ]
  },
  {
   "cell_type": "code",
   "execution_count": 4,
   "metadata": {},
   "outputs": [
    {
     "data": {
      "text/html": [
       "<div>\n",
       "<style scoped>\n",
       "    .dataframe tbody tr th:only-of-type {\n",
       "        vertical-align: middle;\n",
       "    }\n",
       "\n",
       "    .dataframe tbody tr th {\n",
       "        vertical-align: top;\n",
       "    }\n",
       "\n",
       "    .dataframe thead th {\n",
       "        text-align: right;\n",
       "    }\n",
       "</style>\n",
       "<table border=\"1\" class=\"dataframe\">\n",
       "  <thead>\n",
       "    <tr style=\"text-align: right;\">\n",
       "      <th></th>\n",
       "      <th>TransactionNo</th>\n",
       "      <th>Items</th>\n",
       "      <th>DateTime</th>\n",
       "      <th>Daypart</th>\n",
       "      <th>DayType</th>\n",
       "      <th>Price</th>\n",
       "      <th>Year</th>\n",
       "      <th>Month</th>\n",
       "      <th>Day</th>\n",
       "    </tr>\n",
       "  </thead>\n",
       "  <tbody>\n",
       "    <tr>\n",
       "      <td>0</td>\n",
       "      <td>1</td>\n",
       "      <td>Bread</td>\n",
       "      <td>2016-10-30 09:58:11</td>\n",
       "      <td>Morning</td>\n",
       "      <td>Weekend</td>\n",
       "      <td>3</td>\n",
       "      <td>2016</td>\n",
       "      <td>10</td>\n",
       "      <td>2016-10-30</td>\n",
       "    </tr>\n",
       "    <tr>\n",
       "      <td>1</td>\n",
       "      <td>2</td>\n",
       "      <td>Scandinavian</td>\n",
       "      <td>2016-10-30 10:05:34</td>\n",
       "      <td>Morning</td>\n",
       "      <td>Weekend</td>\n",
       "      <td>3</td>\n",
       "      <td>2016</td>\n",
       "      <td>10</td>\n",
       "      <td>2016-10-30</td>\n",
       "    </tr>\n",
       "    <tr>\n",
       "      <td>2</td>\n",
       "      <td>2</td>\n",
       "      <td>Scandinavian</td>\n",
       "      <td>2016-10-30 10:05:34</td>\n",
       "      <td>Morning</td>\n",
       "      <td>Weekend</td>\n",
       "      <td>3</td>\n",
       "      <td>2016</td>\n",
       "      <td>10</td>\n",
       "      <td>2016-10-30</td>\n",
       "    </tr>\n",
       "    <tr>\n",
       "      <td>3</td>\n",
       "      <td>3</td>\n",
       "      <td>Hot chocolate</td>\n",
       "      <td>2016-10-30 10:07:57</td>\n",
       "      <td>Morning</td>\n",
       "      <td>Weekend</td>\n",
       "      <td>3</td>\n",
       "      <td>2016</td>\n",
       "      <td>10</td>\n",
       "      <td>2016-10-30</td>\n",
       "    </tr>\n",
       "    <tr>\n",
       "      <td>4</td>\n",
       "      <td>3</td>\n",
       "      <td>Jam</td>\n",
       "      <td>2016-10-30 10:07:57</td>\n",
       "      <td>Morning</td>\n",
       "      <td>Weekend</td>\n",
       "      <td>3</td>\n",
       "      <td>2016</td>\n",
       "      <td>10</td>\n",
       "      <td>2016-10-30</td>\n",
       "    </tr>\n",
       "  </tbody>\n",
       "</table>\n",
       "</div>"
      ],
      "text/plain": [
       "   TransactionNo          Items            DateTime  Daypart  DayType  Price  \\\n",
       "0              1          Bread 2016-10-30 09:58:11  Morning  Weekend      3   \n",
       "1              2   Scandinavian 2016-10-30 10:05:34  Morning  Weekend      3   \n",
       "2              2   Scandinavian 2016-10-30 10:05:34  Morning  Weekend      3   \n",
       "3              3  Hot chocolate 2016-10-30 10:07:57  Morning  Weekend      3   \n",
       "4              3            Jam 2016-10-30 10:07:57  Morning  Weekend      3   \n",
       "\n",
       "   Year  Month         Day  \n",
       "0  2016     10  2016-10-30  \n",
       "1  2016     10  2016-10-30  \n",
       "2  2016     10  2016-10-30  \n",
       "3  2016     10  2016-10-30  \n",
       "4  2016     10  2016-10-30  "
      ]
     },
     "execution_count": 4,
     "metadata": {},
     "output_type": "execute_result"
    }
   ],
   "source": [
    "data['Year'] = data['DateTime'].dt.year \n",
    "data['Month'] = data['DateTime'].dt.month \n",
    "data['Day'] = data['DateTime'].dt.date\n",
    "data.head()"
   ]
  },
  {
   "cell_type": "code",
   "execution_count": 5,
   "metadata": {},
   "outputs": [],
   "source": [
    "dfItems = data['Items'].value_counts()"
   ]
  },
  {
   "cell_type": "code",
   "execution_count": 12,
   "metadata": {},
   "outputs": [
    {
     "data": {
      "text/html": [
       "<div>\n",
       "<style scoped>\n",
       "    .dataframe tbody tr th:only-of-type {\n",
       "        vertical-align: middle;\n",
       "    }\n",
       "\n",
       "    .dataframe tbody tr th {\n",
       "        vertical-align: top;\n",
       "    }\n",
       "\n",
       "    .dataframe thead th {\n",
       "        text-align: right;\n",
       "    }\n",
       "</style>\n",
       "<table border=\"1\" class=\"dataframe\">\n",
       "  <thead>\n",
       "    <tr style=\"text-align: right;\">\n",
       "      <th></th>\n",
       "      <th>Price</th>\n",
       "    </tr>\n",
       "    <tr>\n",
       "      <th>Day</th>\n",
       "      <th></th>\n",
       "    </tr>\n",
       "  </thead>\n",
       "  <tbody>\n",
       "    <tr>\n",
       "      <td>2016-01-11</td>\n",
       "      <td>450</td>\n",
       "    </tr>\n",
       "    <tr>\n",
       "      <td>2016-01-12</td>\n",
       "      <td>249</td>\n",
       "    </tr>\n",
       "    <tr>\n",
       "      <td>2016-02-11</td>\n",
       "      <td>492</td>\n",
       "    </tr>\n",
       "    <tr>\n",
       "      <td>2016-02-12</td>\n",
       "      <td>312</td>\n",
       "    </tr>\n",
       "    <tr>\n",
       "      <td>2016-03-11</td>\n",
       "      <td>567</td>\n",
       "    </tr>\n",
       "    <tr>\n",
       "      <td>...</td>\n",
       "      <td>...</td>\n",
       "    </tr>\n",
       "    <tr>\n",
       "      <td>2017-11-02</td>\n",
       "      <td>555</td>\n",
       "    </tr>\n",
       "    <tr>\n",
       "      <td>2017-11-03</td>\n",
       "      <td>609</td>\n",
       "    </tr>\n",
       "    <tr>\n",
       "      <td>2017-12-01</td>\n",
       "      <td>216</td>\n",
       "    </tr>\n",
       "    <tr>\n",
       "      <td>2017-12-02</td>\n",
       "      <td>339</td>\n",
       "    </tr>\n",
       "    <tr>\n",
       "      <td>2017-12-03</td>\n",
       "      <td>438</td>\n",
       "    </tr>\n",
       "  </tbody>\n",
       "</table>\n",
       "<p>159 rows × 1 columns</p>\n",
       "</div>"
      ],
      "text/plain": [
       "            Price\n",
       "Day              \n",
       "2016-01-11    450\n",
       "2016-01-12    249\n",
       "2016-02-11    492\n",
       "2016-02-12    312\n",
       "2016-03-11    567\n",
       "...           ...\n",
       "2017-11-02    555\n",
       "2017-11-03    609\n",
       "2017-12-01    216\n",
       "2017-12-02    339\n",
       "2017-12-03    438\n",
       "\n",
       "[159 rows x 1 columns]"
      ]
     },
     "execution_count": 12,
     "metadata": {},
     "output_type": "execute_result"
    }
   ],
   "source": [
    "data_by_date = data.groupby(by='Day').sum()\n",
    "data_by_date = data_by_date.drop(columns = ['TransactionNo', 'Year', 'Month'])\n",
    "data_by_date"
   ]
  },
  {
   "cell_type": "code",
   "execution_count": 15,
   "metadata": {},
   "outputs": [
    {
     "data": {
      "text/plain": [
       "<matplotlib.axes._subplots.AxesSubplot at 0x18ac9f76e88>"
      ]
     },
     "execution_count": 15,
     "metadata": {},
     "output_type": "execute_result"
    },
    {
     "data": {
      "image/png": "[encoded data removed]",
      "text/plain": [
       "<Figure size 1584x288 with 1 Axes>"
      ]
     },
     "metadata": {},
     "output_type": "display_data"
    }
   ],
   "source": [
    "data_by_date['Price'].plot()"
   ]
  },
  {
   "cell_type": "code",
   "execution_count": null,
   "metadata": {},
   "outputs": [],
   "source": []
  }
 ],
 "metadata": {
  "kernelspec": {
   "display_name": "Python 3",
   "language": "python",
   "name": "python3"
  },
  "language_info": {
   "codemirror_mode": {
    "name": "ipython",
    "version": 3
   },
   "file_extension": ".py",
   "mimetype": "text/x-python",
   "name": "python",
   "nbconvert_exporter": "python",
   "pygments_lexer": "ipython3",
   "version": "3.7.4"
  }
 },
 "nbformat": 4,
 "nbformat_minor": 2
}
